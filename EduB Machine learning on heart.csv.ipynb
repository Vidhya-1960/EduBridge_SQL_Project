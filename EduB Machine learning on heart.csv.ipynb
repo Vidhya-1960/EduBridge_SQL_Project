{
 "cells": [
  {
   "cell_type": "markdown",
   "id": "5ea43597",
   "metadata": {},
   "source": [
    "4/10/24"
   ]
  },
  {
   "cell_type": "code",
   "execution_count": null,
   "id": "a173c807",
   "metadata": {},
   "outputs": [],
   "source": []
  },
  {
   "cell_type": "code",
   "execution_count": null,
   "id": "9d646b42",
   "metadata": {},
   "outputs": [],
   "source": []
  },
  {
   "cell_type": "code",
   "execution_count": 1,
   "id": "abba369b",
   "metadata": {},
   "outputs": [],
   "source": [
    "import os\n",
    "import numpy as np\n",
    "import pandas as pd\n",
    "import matplotlib.pyplot as plt\n",
    "import seaborn as sns\n",
    "from sklearn.model_selection import train_test_split"
   ]
  },
  {
   "cell_type": "code",
   "execution_count": 2,
   "id": "0050bc00",
   "metadata": {},
   "outputs": [],
   "source": [
    "os.chdir('C:\\\\Users\\\\Vidhya\\\\Documents\\\\Python\\\\Desktop\\\\Edubridge\\\\Python\\\\Datasets')"
   ]
  },
  {
   "cell_type": "code",
   "execution_count": 3,
   "id": "dd1414bc",
   "metadata": {},
   "outputs": [
    {
     "data": {
      "text/html": [
       "<div>\n",
       "<style scoped>\n",
       "    .dataframe tbody tr th:only-of-type {\n",
       "        vertical-align: middle;\n",
       "    }\n",
       "\n",
       "    .dataframe tbody tr th {\n",
       "        vertical-align: top;\n",
       "    }\n",
       "\n",
       "    .dataframe thead th {\n",
       "        text-align: right;\n",
       "    }\n",
       "</style>\n",
       "<table border=\"1\" class=\"dataframe\">\n",
       "  <thead>\n",
       "    <tr style=\"text-align: right;\">\n",
       "      <th></th>\n",
       "      <th>Age</th>\n",
       "      <th>Sex</th>\n",
       "      <th>ChestPainType</th>\n",
       "      <th>RestingBP</th>\n",
       "      <th>Cholesterol</th>\n",
       "      <th>FastingBS</th>\n",
       "      <th>RestingECG</th>\n",
       "      <th>MaxHR</th>\n",
       "      <th>ExerciseAngina</th>\n",
       "      <th>Oldpeak</th>\n",
       "      <th>ST_Slope</th>\n",
       "      <th>HeartDisease</th>\n",
       "    </tr>\n",
       "  </thead>\n",
       "  <tbody>\n",
       "    <tr>\n",
       "      <th>0</th>\n",
       "      <td>40.0</td>\n",
       "      <td>M</td>\n",
       "      <td>ATA</td>\n",
       "      <td>140</td>\n",
       "      <td>289</td>\n",
       "      <td>0</td>\n",
       "      <td>Normal</td>\n",
       "      <td>172</td>\n",
       "      <td>N</td>\n",
       "      <td>0.0</td>\n",
       "      <td>Up</td>\n",
       "      <td>0</td>\n",
       "    </tr>\n",
       "    <tr>\n",
       "      <th>1</th>\n",
       "      <td>49.0</td>\n",
       "      <td>F</td>\n",
       "      <td>NAP</td>\n",
       "      <td>160</td>\n",
       "      <td>180</td>\n",
       "      <td>0</td>\n",
       "      <td>Normal</td>\n",
       "      <td>156</td>\n",
       "      <td>N</td>\n",
       "      <td>1.0</td>\n",
       "      <td>Flat</td>\n",
       "      <td>1</td>\n",
       "    </tr>\n",
       "    <tr>\n",
       "      <th>2</th>\n",
       "      <td>37.0</td>\n",
       "      <td>M</td>\n",
       "      <td>ATA</td>\n",
       "      <td>130</td>\n",
       "      <td>283</td>\n",
       "      <td>0</td>\n",
       "      <td>ST</td>\n",
       "      <td>98</td>\n",
       "      <td>N</td>\n",
       "      <td>0.0</td>\n",
       "      <td>Up</td>\n",
       "      <td>0</td>\n",
       "    </tr>\n",
       "    <tr>\n",
       "      <th>3</th>\n",
       "      <td>48.0</td>\n",
       "      <td>F</td>\n",
       "      <td>ASY</td>\n",
       "      <td>138</td>\n",
       "      <td>214</td>\n",
       "      <td>0</td>\n",
       "      <td>Normal</td>\n",
       "      <td>108</td>\n",
       "      <td>Y</td>\n",
       "      <td>1.5</td>\n",
       "      <td>Flat</td>\n",
       "      <td>1</td>\n",
       "    </tr>\n",
       "    <tr>\n",
       "      <th>4</th>\n",
       "      <td>54.0</td>\n",
       "      <td>M</td>\n",
       "      <td>NAP</td>\n",
       "      <td>150</td>\n",
       "      <td>195</td>\n",
       "      <td>0</td>\n",
       "      <td>Normal</td>\n",
       "      <td>122</td>\n",
       "      <td>N</td>\n",
       "      <td>0.0</td>\n",
       "      <td>Up</td>\n",
       "      <td>0</td>\n",
       "    </tr>\n",
       "    <tr>\n",
       "      <th>...</th>\n",
       "      <td>...</td>\n",
       "      <td>...</td>\n",
       "      <td>...</td>\n",
       "      <td>...</td>\n",
       "      <td>...</td>\n",
       "      <td>...</td>\n",
       "      <td>...</td>\n",
       "      <td>...</td>\n",
       "      <td>...</td>\n",
       "      <td>...</td>\n",
       "      <td>...</td>\n",
       "      <td>...</td>\n",
       "    </tr>\n",
       "    <tr>\n",
       "      <th>913</th>\n",
       "      <td>45.0</td>\n",
       "      <td>M</td>\n",
       "      <td>TA</td>\n",
       "      <td>110</td>\n",
       "      <td>264</td>\n",
       "      <td>0</td>\n",
       "      <td>Normal</td>\n",
       "      <td>132</td>\n",
       "      <td>N</td>\n",
       "      <td>1.2</td>\n",
       "      <td>Flat</td>\n",
       "      <td>1</td>\n",
       "    </tr>\n",
       "    <tr>\n",
       "      <th>914</th>\n",
       "      <td>68.0</td>\n",
       "      <td>M</td>\n",
       "      <td>ASY</td>\n",
       "      <td>144</td>\n",
       "      <td>193</td>\n",
       "      <td>1</td>\n",
       "      <td>Normal</td>\n",
       "      <td>141</td>\n",
       "      <td>N</td>\n",
       "      <td>3.4</td>\n",
       "      <td>Flat</td>\n",
       "      <td>1</td>\n",
       "    </tr>\n",
       "    <tr>\n",
       "      <th>915</th>\n",
       "      <td>57.0</td>\n",
       "      <td>M</td>\n",
       "      <td>ASY</td>\n",
       "      <td>130</td>\n",
       "      <td>131</td>\n",
       "      <td>0</td>\n",
       "      <td>Normal</td>\n",
       "      <td>115</td>\n",
       "      <td>Y</td>\n",
       "      <td>1.2</td>\n",
       "      <td>Flat</td>\n",
       "      <td>1</td>\n",
       "    </tr>\n",
       "    <tr>\n",
       "      <th>916</th>\n",
       "      <td>57.0</td>\n",
       "      <td>F</td>\n",
       "      <td>ATA</td>\n",
       "      <td>130</td>\n",
       "      <td>236</td>\n",
       "      <td>0</td>\n",
       "      <td>LVH</td>\n",
       "      <td>174</td>\n",
       "      <td>N</td>\n",
       "      <td>0.0</td>\n",
       "      <td>Flat</td>\n",
       "      <td>1</td>\n",
       "    </tr>\n",
       "    <tr>\n",
       "      <th>917</th>\n",
       "      <td>38.0</td>\n",
       "      <td>M</td>\n",
       "      <td>NAP</td>\n",
       "      <td>138</td>\n",
       "      <td>175</td>\n",
       "      <td>0</td>\n",
       "      <td>Normal</td>\n",
       "      <td>173</td>\n",
       "      <td>N</td>\n",
       "      <td>0.0</td>\n",
       "      <td>Up</td>\n",
       "      <td>0</td>\n",
       "    </tr>\n",
       "  </tbody>\n",
       "</table>\n",
       "<p>918 rows × 12 columns</p>\n",
       "</div>"
      ],
      "text/plain": [
       "      Age Sex ChestPainType  RestingBP  Cholesterol  FastingBS RestingECG  \\\n",
       "0    40.0   M           ATA        140          289          0     Normal   \n",
       "1    49.0   F           NAP        160          180          0     Normal   \n",
       "2    37.0   M           ATA        130          283          0         ST   \n",
       "3    48.0   F           ASY        138          214          0     Normal   \n",
       "4    54.0   M           NAP        150          195          0     Normal   \n",
       "..    ...  ..           ...        ...          ...        ...        ...   \n",
       "913  45.0   M            TA        110          264          0     Normal   \n",
       "914  68.0   M           ASY        144          193          1     Normal   \n",
       "915  57.0   M           ASY        130          131          0     Normal   \n",
       "916  57.0   F           ATA        130          236          0        LVH   \n",
       "917  38.0   M           NAP        138          175          0     Normal   \n",
       "\n",
       "     MaxHR ExerciseAngina  Oldpeak ST_Slope  HeartDisease  \n",
       "0      172              N      0.0       Up             0  \n",
       "1      156              N      1.0     Flat             1  \n",
       "2       98              N      0.0       Up             0  \n",
       "3      108              Y      1.5     Flat             1  \n",
       "4      122              N      0.0       Up             0  \n",
       "..     ...            ...      ...      ...           ...  \n",
       "913    132              N      1.2     Flat             1  \n",
       "914    141              N      3.4     Flat             1  \n",
       "915    115              Y      1.2     Flat             1  \n",
       "916    174              N      0.0     Flat             1  \n",
       "917    173              N      0.0       Up             0  \n",
       "\n",
       "[918 rows x 12 columns]"
      ]
     },
     "execution_count": 3,
     "metadata": {},
     "output_type": "execute_result"
    }
   ],
   "source": [
    "hrt=pd.read_csv('heart.csv')\n",
    "hrt"
   ]
  },
  {
   "cell_type": "code",
   "execution_count": 4,
   "id": "23f37e5d",
   "metadata": {},
   "outputs": [
    {
     "data": {
      "text/plain": [
       "(918, 12)"
      ]
     },
     "execution_count": 4,
     "metadata": {},
     "output_type": "execute_result"
    }
   ],
   "source": [
    "hrt.shape"
   ]
  },
  {
   "cell_type": "code",
   "execution_count": 5,
   "id": "b2faa67b",
   "metadata": {},
   "outputs": [
    {
     "data": {
      "text/plain": [
       "Age               4\n",
       "Sex               3\n",
       "ChestPainType     0\n",
       "RestingBP         0\n",
       "Cholesterol       0\n",
       "FastingBS         0\n",
       "RestingECG        0\n",
       "MaxHR             0\n",
       "ExerciseAngina    0\n",
       "Oldpeak           0\n",
       "ST_Slope          0\n",
       "HeartDisease      0\n",
       "dtype: int64"
      ]
     },
     "execution_count": 5,
     "metadata": {},
     "output_type": "execute_result"
    }
   ],
   "source": [
    "hrt.isna().sum()"
   ]
  },
  {
   "cell_type": "code",
   "execution_count": 6,
   "id": "856a7869",
   "metadata": {},
   "outputs": [],
   "source": [
    "#replacing null values in Age\n",
    "hrt['Age'].fillna(np.mean(hrt['Age']),inplace=True)"
   ]
  },
  {
   "cell_type": "code",
   "execution_count": 7,
   "id": "44f25009",
   "metadata": {},
   "outputs": [
    {
     "data": {
      "text/plain": [
       "M    723\n",
       "F    192\n",
       "Name: Sex, dtype: int64"
      ]
     },
     "execution_count": 7,
     "metadata": {},
     "output_type": "execute_result"
    }
   ],
   "source": [
    "#replaccing null values in Sex\n",
    "gender_count=hrt['Sex'].value_counts()\n",
    "gender_count"
   ]
  },
  {
   "cell_type": "code",
   "execution_count": 8,
   "id": "aa5168b5",
   "metadata": {},
   "outputs": [],
   "source": [
    "hrt['Sex'].fillna('M',inplace=True)"
   ]
  },
  {
   "cell_type": "code",
   "execution_count": 9,
   "id": "5c935782",
   "metadata": {},
   "outputs": [
    {
     "data": {
      "image/png": "[encoded data removed]",
      "text/plain": [
       "<Figure size 216x216 with 1 Axes>"
      ]
     },
     "metadata": {
      "needs_background": "light"
     },
     "output_type": "display_data"
    }
   ],
   "source": [
    "fig=plt.figure(figsize=(3,3))\n",
    "plt.barh(gender_count.index,gender_count.values,color='maroon',edgecolor='black')\n",
    "plt.show()"
   ]
  },
  {
   "cell_type": "code",
   "execution_count": 10,
   "id": "83a5eb29",
   "metadata": {},
   "outputs": [
    {
     "data": {
      "text/plain": [
       "1    508\n",
       "0    410\n",
       "Name: HeartDisease, dtype: int64"
      ]
     },
     "execution_count": 10,
     "metadata": {},
     "output_type": "execute_result"
    }
   ],
   "source": [
    "hrt.HeartDisease.value_counts()"
   ]
  },
  {
   "cell_type": "code",
   "execution_count": 11,
   "id": "89419936",
   "metadata": {},
   "outputs": [
    {
     "data": {
      "text/plain": [
       "ASY    496\n",
       "NAP    203\n",
       "ATA    173\n",
       "TA      46\n",
       "Name: ChestPainType, dtype: int64"
      ]
     },
     "execution_count": 11,
     "metadata": {},
     "output_type": "execute_result"
    }
   ],
   "source": [
    "chestpains=hrt.ChestPainType.value_counts()\n",
    "chestpains"
   ]
  },
  {
   "cell_type": "code",
   "execution_count": 12,
   "id": "94c8ad90",
   "metadata": {},
   "outputs": [
    {
     "data": {
      "image/png": "[encoded data removed]",
      "text/plain": [
       "<Figure size 432x288 with 1 Axes>"
      ]
     },
     "metadata": {},
     "output_type": "display_data"
    }
   ],
   "source": [
    "sns.set_palette('rainbow')\n",
    "plt.pie(chestpains.values,labels=chestpains.index,autopct='%0.1f%%',explode=[0.01,0.01,0.01,0.01])\n",
    "plt.show()"
   ]
  },
  {
   "cell_type": "code",
   "execution_count": 13,
   "id": "72fd7148",
   "metadata": {},
   "outputs": [
    {
     "data": {
      "text/plain": [
       "HeartDisease\n",
       "0    227.121951\n",
       "1    175.940945\n",
       "Name: Cholesterol, dtype: float64"
      ]
     },
     "execution_count": 13,
     "metadata": {},
     "output_type": "execute_result"
    }
   ],
   "source": [
    "hrt.groupby('HeartDisease')['Cholesterol'].mean()"
   ]
  },
  {
   "cell_type": "code",
   "execution_count": 14,
   "id": "afe259d2",
   "metadata": {},
   "outputs": [
    {
     "data": {
      "text/plain": [
       "HeartDisease\n",
       "0    227.121951\n",
       "1    175.940945\n",
       "Name: Cholesterol, dtype: float64"
      ]
     },
     "execution_count": 14,
     "metadata": {},
     "output_type": "execute_result"
    }
   ],
   "source": [
    "hrt.groupby('HeartDisease')['Cholesterol'].mean()"
   ]
  },
  {
   "cell_type": "code",
   "execution_count": 15,
   "id": "6429a1be",
   "metadata": {},
   "outputs": [
    {
     "data": {
      "text/plain": [
       "HeartDisease\n",
       "0    130.180488\n",
       "1    134.185039\n",
       "Name: RestingBP, dtype: float64"
      ]
     },
     "execution_count": 15,
     "metadata": {},
     "output_type": "execute_result"
    }
   ],
   "source": [
    "hrt.groupby('HeartDisease')['RestingBP'].mean()"
   ]
  },
  {
   "cell_type": "code",
   "execution_count": 16,
   "id": "1f892944",
   "metadata": {},
   "outputs": [],
   "source": [
    "#encoding catgorical columns\n",
    "from sklearn.preprocessing import LabelEncoder"
   ]
  },
  {
   "cell_type": "code",
   "execution_count": 17,
   "id": "099bb300",
   "metadata": {},
   "outputs": [],
   "source": [
    "encode=LabelEncoder()\n",
    "hrt['Sex']=encode.fit_transform(hrt['Sex'])\n",
    "hrt.ChestPainType=encode.fit_transform(hrt.ChestPainType)\n",
    "hrt.RestingECG=encode.fit_transform(hrt.RestingECG)\n",
    "hrt.ExerciseAngina=encode.fit_transform(hrt.ExerciseAngina)\n",
    "hrt.ST_Slope=encode.fit_transform(hrt.ST_Slope)"
   ]
  },
  {
   "cell_type": "code",
   "execution_count": 18,
   "id": "9eb90fb6",
   "metadata": {},
   "outputs": [],
   "source": [
    "X=hrt.iloc[:,:-1]\n",
    "y=hrt.HeartDisease #HD"
   ]
  },
  {
   "cell_type": "code",
   "execution_count": 19,
   "id": "d478f58a",
   "metadata": {},
   "outputs": [],
   "source": [
    "X_tr,X_te,y_tr,y_te=train_test_split(X,y,test_size=0.2)"
   ]
  },
  {
   "cell_type": "code",
   "execution_count": 20,
   "id": "eadb970e",
   "metadata": {},
   "outputs": [],
   "source": [
    "from sklearn.linear_model import LogisticRegression"
   ]
  },
  {
   "cell_type": "code",
   "execution_count": 21,
   "id": "d89c4866",
   "metadata": {},
   "outputs": [
    {
     "name": "stderr",
     "output_type": "stream",
     "text": [
      "C:\\Users\\Vidhya\\anaconda3\\lib\\site-packages\\sklearn\\linear_model\\_logistic.py:814: ConvergenceWarning: lbfgs failed to converge (status=1):\n",
      "STOP: TOTAL NO. of ITERATIONS REACHED LIMIT.\n",
      "\n",
      "Increase the number of iterations (max_iter) or scale the data as shown in:\n",
      "    https://scikit-learn.org/stable/modules/preprocessing.html\n",
      "Please also refer to the documentation for alternative solver options:\n",
      "    https://scikit-learn.org/stable/modules/linear_model.html#logistic-regression\n",
      "  n_iter_i = _check_optimize_result(\n"
     ]
    },
    {
     "data": {
      "text/plain": [
       "LogisticRegression()"
      ]
     },
     "execution_count": 21,
     "metadata": {},
     "output_type": "execute_result"
    }
   ],
   "source": [
    "model=LogisticRegression()\n",
    "model.fit(X_tr,y_tr)"
   ]
  },
  {
   "cell_type": "code",
   "execution_count": 22,
   "id": "c1b27446",
   "metadata": {},
   "outputs": [],
   "source": [
    "y_pr=model.predict(X_te)"
   ]
  },
  {
   "cell_type": "code",
   "execution_count": 23,
   "id": "7f14a356",
   "metadata": {},
   "outputs": [
    {
     "data": {
      "text/plain": [
       "array([1, 1, 0, 1, 1, 0, 1, 0, 1, 1, 1, 0, 0, 1, 1, 0, 0, 1, 0, 1, 1, 1,\n",
       "       0, 0, 1, 1, 1, 0, 0, 0, 1, 1, 1, 1, 1, 1, 1, 1, 1, 0, 1, 0, 1, 1,\n",
       "       1, 0, 1, 1, 0, 1, 1, 0, 0, 0, 0, 1, 1, 1, 1, 1, 1, 0, 0, 1, 0, 1,\n",
       "       1, 0, 1, 1, 1, 1, 0, 1, 0, 1, 1, 0, 0, 1, 0, 0, 1, 1, 0, 0, 0, 0,\n",
       "       1, 1, 1, 0, 0, 1, 1, 0, 1, 0, 1, 0, 0, 0, 0, 0, 0, 0, 1, 1, 1, 1,\n",
       "       0, 1, 1, 1, 0, 0, 1, 0, 1, 0, 0, 0, 0, 1, 0, 0, 1, 1, 0, 1, 1, 0,\n",
       "       0, 0, 0, 0, 1, 1, 1, 0, 1, 1, 1, 0, 0, 1, 0, 0, 1, 0, 1, 1, 0, 1,\n",
       "       0, 0, 1, 0, 1, 1, 1, 0, 0, 1, 0, 1, 1, 0, 1, 0, 1, 1, 1, 0, 1, 1,\n",
       "       1, 1, 0, 1, 0, 1, 1, 0], dtype=int64)"
      ]
     },
     "execution_count": 23,
     "metadata": {},
     "output_type": "execute_result"
    }
   ],
   "source": [
    "y_pr"
   ]
  },
  {
   "cell_type": "code",
   "execution_count": 24,
   "id": "1c246ee0",
   "metadata": {},
   "outputs": [
    {
     "data": {
      "text/plain": [
       "537    1\n",
       "506    1\n",
       "703    0\n",
       "570    1\n",
       "414    1\n",
       "      ..\n",
       "586    1\n",
       "683    0\n",
       "681    0\n",
       "376    1\n",
       "231    0\n",
       "Name: HeartDisease, Length: 184, dtype: int64"
      ]
     },
     "execution_count": 24,
     "metadata": {},
     "output_type": "execute_result"
    }
   ],
   "source": [
    "y_te"
   ]
  },
  {
   "cell_type": "code",
   "execution_count": 25,
   "id": "c7373494",
   "metadata": {},
   "outputs": [
    {
     "name": "stdout",
     "output_type": "stream",
     "text": [
      "The percentage accuracy of model is 86.95652173913044\n"
     ]
    }
   ],
   "source": [
    "from sklearn.metrics import accuracy_score\n",
    "print('The percentage accuracy of model is',accuracy_score(y_te,y_pr)*100)\n",
    "\n",
    "\n",
    "#accuracy_score is to be used when variables are categorical\n",
    "#accuracy_score tells abt how good is the model predicting the values similar to y_test values(actual values) i.e. predicting the right/nearest values\n",
    "#E1 and E4\n",
    "#below 80% or 85% the model is not good\n",
    "#below 85% is still okay"
   ]
  },
  {
   "cell_type": "code",
   "execution_count": 26,
   "id": "e982fc5e",
   "metadata": {},
   "outputs": [
    {
     "data": {
      "text/plain": [
       "array([[70, 13],\n",
       "       [11, 90]], dtype=int64)"
      ]
     },
     "execution_count": 26,
     "metadata": {},
     "output_type": "execute_result"
    }
   ],
   "source": [
    "from sklearn.metrics import confusion_matrix\n",
    "confusion_matrix(y_te,y_pr)\n",
    "\n",
    "\n",
    "#array([[E1,E2],[E3,E4]])\n",
    "#diagonal elements (E1)-78(actually has HD and also predicted has HD) and (E4)-116(actually no HD and also predicted no HD) are rightly classified i.e. 78+116=194, these are predicted rightly\n",
    "#diagonal elements (E2)-22(actually doesn't but predicted has HD) and (E3)-14(actually has but predicted no HD) are wrongly classified i.e. 22+14=36\n",
    "#so E1+E2+E3+E4=230 values are predicted in the model irrespective of rightly or wrongly being predicted\n",
    "#all of 230(X_te.shape) are predicted in my model\n",
    "#194/230=0.8434 i.e. 84% of the values is predicted rightly"
   ]
  },
  {
   "cell_type": "code",
   "execution_count": 27,
   "id": "0df42ae7",
   "metadata": {},
   "outputs": [
    {
     "data": {
      "text/plain": [
       "(184, 11)"
      ]
     },
     "execution_count": 27,
     "metadata": {},
     "output_type": "execute_result"
    }
   ],
   "source": [
    "X_te.shape"
   ]
  },
  {
   "cell_type": "code",
   "execution_count": 28,
   "id": "02d646f6",
   "metadata": {},
   "outputs": [
    {
     "data": {
      "text/plain": [
       "1    508\n",
       "0    410\n",
       "Name: HeartDisease, dtype: int64"
      ]
     },
     "execution_count": 28,
     "metadata": {},
     "output_type": "execute_result"
    }
   ],
   "source": [
    "hrt.HeartDisease.value_counts() #fairly balanced target class/output variable"
   ]
  },
  {
   "cell_type": "code",
   "execution_count": null,
   "id": "4b884d90",
   "metadata": {},
   "outputs": [],
   "source": []
  },
  {
   "cell_type": "code",
   "execution_count": null,
   "id": "71a1c9f8",
   "metadata": {},
   "outputs": [],
   "source": []
  },
  {
   "cell_type": "code",
   "execution_count": null,
   "id": "a184ae82",
   "metadata": {},
   "outputs": [],
   "source": []
  },
  {
   "cell_type": "code",
   "execution_count": null,
   "id": "affe27e4",
   "metadata": {},
   "outputs": [],
   "source": []
  },
  {
   "cell_type": "code",
   "execution_count": null,
   "id": "f4dfde52",
   "metadata": {},
   "outputs": [],
   "source": []
  },
  {
   "cell_type": "markdown",
   "id": "a4b278e8",
   "metadata": {},
   "source": [
    "8/10/24"
   ]
  },
  {
   "cell_type": "code",
   "execution_count": null,
   "id": "f2be0f3b",
   "metadata": {},
   "outputs": [],
   "source": []
  },
  {
   "cell_type": "markdown",
   "id": "a4fe24aa",
   "metadata": {},
   "source": [
    "Decision Tree Classifier"
   ]
  },
  {
   "cell_type": "code",
   "execution_count": 29,
   "id": "c3b849b4",
   "metadata": {},
   "outputs": [],
   "source": [
    "#shld use Logistic Regression when target variable has only 2 output\n",
    "#shld use Decision Tree Classifier when target variable has more than 2 output"
   ]
  },
  {
   "cell_type": "code",
   "execution_count": 30,
   "id": "8992a861",
   "metadata": {},
   "outputs": [],
   "source": [
    "from sklearn.tree import DecisionTreeClassifier"
   ]
  },
  {
   "cell_type": "code",
   "execution_count": 31,
   "id": "b5818238",
   "metadata": {},
   "outputs": [],
   "source": [
    "depth=[1,2,3,4,5,6,7,8,9,10,11,12]\n",
    "accuracies=[]\n",
    "for i in depth:\n",
    "    model=DecisionTreeClassifier(max_depth=i)\n",
    "    model.fit(X_tr,y_tr)\n",
    "    y_pred=model.predict(X_te)\n",
    "    accuracies.append(accuracy_score(y_te,y_pr)*100)"
   ]
  },
  {
   "cell_type": "code",
   "execution_count": 32,
   "id": "3b1e37ee",
   "metadata": {},
   "outputs": [
    {
     "name": "stdout",
     "output_type": "stream",
     "text": [
      "Accuracy of decision Tree with depth 1 is 86.95652173913044\n",
      "Accuracy of decision Tree with depth 2 is 86.95652173913044\n",
      "Accuracy of decision Tree with depth 3 is 86.95652173913044\n",
      "Accuracy of decision Tree with depth 4 is 86.95652173913044\n",
      "Accuracy of decision Tree with depth 5 is 86.95652173913044\n",
      "Accuracy of decision Tree with depth 6 is 86.95652173913044\n",
      "Accuracy of decision Tree with depth 7 is 86.95652173913044\n",
      "Accuracy of decision Tree with depth 8 is 86.95652173913044\n",
      "Accuracy of decision Tree with depth 9 is 86.95652173913044\n",
      "Accuracy of decision Tree with depth 10 is 86.95652173913044\n",
      "Accuracy of decision Tree with depth 11 is 86.95652173913044\n",
      "Accuracy of decision Tree with depth 12 is 86.95652173913044\n"
     ]
    }
   ],
   "source": [
    "for i in range(len(depth)):\n",
    "    print('Accuracy of decision Tree with depth',depth[i],'is',accuracies[i])"
   ]
  },
  {
   "cell_type": "code",
   "execution_count": null,
   "id": "82d40f31",
   "metadata": {},
   "outputs": [],
   "source": []
  },
  {
   "cell_type": "markdown",
   "id": "6e31b274",
   "metadata": {},
   "source": [
    "#Entropy and Gini are both measures of Impurity"
   ]
  },
  {
   "cell_type": "code",
   "execution_count": 33,
   "id": "5f55ea68",
   "metadata": {},
   "outputs": [
    {
     "name": "stdout",
     "output_type": "stream",
     "text": [
      "Accuracy of decision Tree with depth 1 is 86.95652173913044\n",
      "Accuracy of decision Tree with depth 2 is 86.95652173913044\n",
      "Accuracy of decision Tree with depth 3 is 86.95652173913044\n",
      "Accuracy of decision Tree with depth 4 is 86.95652173913044\n",
      "Accuracy of decision Tree with depth 5 is 86.95652173913044\n",
      "Accuracy of decision Tree with depth 6 is 86.95652173913044\n",
      "Accuracy of decision Tree with depth 7 is 86.95652173913044\n",
      "Accuracy of decision Tree with depth 8 is 86.95652173913044\n",
      "Accuracy of decision Tree with depth 9 is 86.95652173913044\n",
      "Accuracy of decision Tree with depth 10 is 86.95652173913044\n",
      "Accuracy of decision Tree with depth 11 is 86.95652173913044\n",
      "Accuracy of decision Tree with depth 12 is 86.95652173913044\n"
     ]
    }
   ],
   "source": [
    "#with Entropy\n",
    "depth=[1,2,3,4,5,6,7,8,9,10,11,12]\n",
    "accuracies=[]\n",
    "for i in depth:\n",
    "    model=DecisionTreeClassifier(criterion='entropy',max_depth=i)\n",
    "    model.fit(X_tr,y_tr)\n",
    "    y_pred=model.predict(X_te)\n",
    "    accuracies.append(accuracy_score(y_te,y_pr)*100)\n",
    "    \n",
    "for i in range(len(depth)):\n",
    "    print('Accuracy of decision Tree with depth',depth[i],'is',accuracies[i])    "
   ]
  },
  {
   "cell_type": "code",
   "execution_count": null,
   "id": "eb67462f",
   "metadata": {},
   "outputs": [],
   "source": []
  },
  {
   "cell_type": "code",
   "execution_count": 34,
   "id": "4d25ba02",
   "metadata": {},
   "outputs": [
    {
     "name": "stdout",
     "output_type": "stream",
     "text": [
      "Accuracy of decision Tree with depth 1 is 86.95652173913044\n",
      "Accuracy of decision Tree with depth 2 is 86.95652173913044\n",
      "Accuracy of decision Tree with depth 3 is 86.95652173913044\n",
      "Accuracy of decision Tree with depth 4 is 86.95652173913044\n",
      "Accuracy of decision Tree with depth 5 is 86.95652173913044\n",
      "Accuracy of decision Tree with depth 6 is 86.95652173913044\n",
      "Accuracy of decision Tree with depth 7 is 86.95652173913044\n",
      "Accuracy of decision Tree with depth 8 is 86.95652173913044\n",
      "Accuracy of decision Tree with depth 9 is 86.95652173913044\n",
      "Accuracy of decision Tree with depth 10 is 86.95652173913044\n",
      "Accuracy of decision Tree with depth 11 is 86.95652173913044\n",
      "Accuracy of decision Tree with depth 12 is 86.95652173913044\n"
     ]
    }
   ],
   "source": [
    "#with Gini\n",
    "depth=[1,2,3,4,5,6,7,8,9,10,11,12]\n",
    "accuracies=[]\n",
    "for i in depth:\n",
    "    model=DecisionTreeClassifier(criterion='gini',max_depth=i)\n",
    "    model.fit(X_tr,y_tr)\n",
    "    y_pred=model.predict(X_te)\n",
    "    accuracies.append(accuracy_score(y_te,y_pr)*100)\n",
    "    \n",
    "for i in range(len(depth)):\n",
    "    print('Accuracy of decision Tree with depth',depth[i],'is',accuracies[i])  "
   ]
  },
  {
   "cell_type": "code",
   "execution_count": 36,
   "id": "39794c94",
   "metadata": {},
   "outputs": [
    {
     "data": {
      "text/plain": [
       "72.82608695652173"
      ]
     },
     "execution_count": 36,
     "metadata": {},
     "output_type": "execute_result"
    }
   ],
   "source": [
    "from sklearn.svm import SVC\n",
    "model=SVC()\n",
    "model.fit(X_tr,y_tr)\n",
    "y_pred=model.predict(X_te)\n",
    "accuracy_score(y_te,y_pred)*100"
   ]
  },
  {
   "cell_type": "code",
   "execution_count": null,
   "id": "34ba7c66",
   "metadata": {},
   "outputs": [],
   "source": []
  },
  {
   "cell_type": "code",
   "execution_count": null,
   "id": "001341e2",
   "metadata": {},
   "outputs": [],
   "source": []
  },
  {
   "cell_type": "markdown",
   "id": "b5664e4d",
   "metadata": {},
   "source": [
    "16/10/24"
   ]
  },
  {
   "cell_type": "code",
   "execution_count": null,
   "id": "621ae43d",
   "metadata": {},
   "outputs": [],
   "source": []
  },
  {
   "cell_type": "markdown",
   "id": "5033ae13",
   "metadata": {},
   "source": [
    "Naive Bayes"
   ]
  },
  {
   "cell_type": "code",
   "execution_count": 37,
   "id": "47631033",
   "metadata": {},
   "outputs": [],
   "source": [
    "from sklearn.naive_bayes import GaussianNB"
   ]
  },
  {
   "cell_type": "code",
   "execution_count": 39,
   "id": "637367ff",
   "metadata": {},
   "outputs": [
    {
     "data": {
      "text/plain": [
       "86.95652173913044"
      ]
     },
     "execution_count": 39,
     "metadata": {},
     "output_type": "execute_result"
    }
   ],
   "source": [
    "model=GaussianNB()\n",
    "model.fit(X_tr,y_tr)\n",
    "y_pred=model.predict(X_te)\n",
    "accuracy_score(y_te,y_pred)*100\n",
    "\n",
    "#till now this is the best model so far"
   ]
  },
  {
   "cell_type": "code",
   "execution_count": null,
   "id": "41747b1f",
   "metadata": {},
   "outputs": [],
   "source": []
  }
 ],
 "metadata": {
  "kernelspec": {
   "display_name": "Python 3 (ipykernel)",
   "language": "python",
   "name": "python3"
  },
  "language_info": {
   "codemirror_mode": {
    "name": "ipython",
    "version": 3
   },
   "file_extension": ".py",
   "mimetype": "text/x-python",
   "name": "python",
   "nbconvert_exporter": "python",
   "pygments_lexer": "ipython3",
   "version": "3.9.12"
  }
 },
 "nbformat": 4,
 "nbformat_minor": 5
}
